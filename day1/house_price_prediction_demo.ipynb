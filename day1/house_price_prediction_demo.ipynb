{
  "cells": [
    {
      "cell_type": "markdown",
      "metadata": {
        "vscode": {
          "languageId": "raw"
        }
      },
      "source": [
        "# Demo Dự Đoán Giá Nhà - Machine Learning vs Deep Learning\n",
        "\n",
        "## Mục tiêu:\n",
        "- So sánh hiệu quả giữa Machine Learning truyền thống và Deep Learning\n",
        "- Thực hành từ thu thập dữ liệu → huấn luyện → test → đánh giá\n",
        "- Hiểu cách các model hoạt động trong thực tế\n"
      ]
    },
    {
      "cell_type": "code",
      "execution_count": 1,
      "metadata": {},
      "outputs": [],
      "source": [
        "# Import thư viện cần thiết\n",
        "import pandas as pd\n",
        "import numpy as np\n",
        "import matplotlib.pyplot as plt\n",
        "import seaborn as sns\n",
        "from sklearn.model_selection import train_test_split\n",
        "from sklearn.preprocessing import StandardScaler\n",
        "from sklearn.ensemble import RandomForestRegressor\n",
        "from sklearn.linear_model import LinearRegression\n",
        "from sklearn.metrics import mean_absolute_error, mean_squared_error, r2_score\n",
        "import tensorflow as tf\n",
        "from tensorflow import keras\n",
        "import warnings\n",
        "warnings.filterwarnings('ignore')\n"
      ]
    },
    {
      "cell_type": "markdown",
      "metadata": {
        "vscode": {
          "languageId": "raw"
        }
      },
      "source": [
        "## 1. Tạo Dữ Liệu Giả Lập (Realistic Data)\n",
        "Trong thực tế, dữ liệu sẽ được thu thập từ các trang web bất động sản\n"
      ]
    },
    {
      "cell_type": "code",
      "execution_count": null,
      "metadata": {},
      "outputs": [],
      "source": [
        "# Tạo dữ liệu giả lập dựa trên thị trường bất động sản Việt Nam\n",
        "np.random.seed(42)\n",
        "n_samples = 1000\n",
        "\n",
        "# Các yếu tố ảnh hưởng đến giá nhà\n",
        "data = {\n",
        "    'dien_tich': np.clip(np.random.normal(80, 25, n_samples), 30, 200),  # 30-200 m2\n",
        "    'so_phong_ngu': np.random.choice([1, 2, 3, 4, 5], n_samples, p=[0.1, 0.3, 0.4, 0.15, 0.05]),\n",
        "    'so_phong_tam': np.random.choice([1, 2, 3], n_samples, p=[0.4, 0.5, 0.1]),\n",
        "    'khoang_cach_trung_tam': np.clip(np.random.exponential(8, n_samples), 1, 30),  # 1-30 km\n",
        "    'tuoi_nha': np.random.randint(0, 25, n_samples),  # 0-25 năm\n",
        "    'gan_truong_hoc': np.random.choice([0, 1], n_samples, p=[0.7, 0.3]),\n",
        "    'gan_benh_vien': np.random.choice([0, 1], n_samples, p=[0.8, 0.2]),\n",
        "    'co_ho_boi': np.random.choice([0, 1], n_samples, p=[0.9, 0.1]),\n",
        "    'co_thang_may': np.random.choice([0, 1], n_samples, p=[0.6, 0.4])\n",
        "}\n",
        "\n",
        "df = pd.DataFrame(data)\n",
        "\n",
        "# Tạo công thức tính giá nhà dựa trên logic thực tế\n",
        "def tinh_gia_nha(row):\n",
        "    gia_co_so = 50_000_000  # 50 triệu VND/m2\n",
        "    \n",
        "    # Yếu tố chính: diện tích\n",
        "    gia = gia_co_so * row['dien_tich']\n",
        "    \n",
        "    # Phòng ngủ và phòng tắm\n",
        "    gia += row['so_phong_ngu'] * 150_000_000  # Giảm xuống 150tr/phòng\n",
        "    gia += row['so_phong_tam'] * 80_000_000   # Giảm xuống 80tr/phòng tắm\n",
        "    \n",
        "    # Vị trí (càng xa trung tâm càng rẻ) - giảm impact để tránh âm\n",
        "    distance_factor = max(0.3, 1 - row['khoang_cach_trung_tam'] * 0.015)  # Tối thiểu 30%\n",
        "    gia *= distance_factor\n",
        "    \n",
        "    # Tuổi nhà (càng cũ càng rẻ) - giảm impact\n",
        "    age_factor = max(0.5, 1 - row['tuoi_nha'] * 0.008)  # Tối thiểu 50%\n",
        "    gia *= age_factor\n",
        "    \n",
        "    # Tiện ích xung quanh\n",
        "    if row['gan_truong_hoc']: gia *= 1.08\n",
        "    if row['gan_benh_vien']: gia *= 1.05\n",
        "    if row['co_ho_boi']: gia *= 1.15\n",
        "    if row['co_thang_may']: gia *= 1.1\n",
        "    \n",
        "    # Đảm bảo giá không âm trước khi thêm noise\n",
        "    gia = max(gia, 500_000_000)  # Tối thiểu 500 triệu\n",
        "    \n",
        "    # Thêm noise nhỏ hơn để tránh giá trị âm\n",
        "    noise = np.random.normal(0, gia * 0.05)  # Giảm từ 0.1 xuống 0.05\n",
        "    gia += noise\n",
        "    \n",
        "    return max(gia, 500_000_000)  # Đảm bảo giá tối thiểu\n",
        "\n",
        "df['gia_nha'] = df.apply(tinh_gia_nha, axis=1)\n",
        "\n",
        "print(\"📊 Dữ liệu mẫu:\")\n",
        "print(df.head())\n",
        "print(f\"\\n📈 Tổng số mẫu: {len(df)}\")\n",
        "print(f\"💰 Giá nhà trung bình: {df['gia_nha'].mean():,.0f} VND\")\n",
        "print(f\"💰 Giá nhà cao nhất: {df['gia_nha'].max():,.0f} VND\")\n",
        "print(f\"💰 Giá nhà thấp nhất: {df['gia_nha'].min():,.0f} VND\")\n"
      ]
    },
    {
      "cell_type": "markdown",
      "metadata": {
        "vscode": {
          "languageId": "raw"
        }
      },
      "source": [
        "## 2. Khám Phá Dữ Liệu (Data Exploration)\n"
      ]
    },
    {
      "cell_type": "code",
      "execution_count": null,
      "metadata": {},
      "outputs": [],
      "source": [
        "# Vẽ biểu đồ khám phá dữ liệu\n",
        "plt.figure(figsize=(15, 5))\n",
        "\n",
        "plt.subplot(1, 3, 1)\n",
        "plt.hist(df['gia_nha']/1_000_000_000, bins=30, alpha=0.7, color='skyblue')\n",
        "plt.title('Phân Bố Giá Nhà')\n",
        "plt.xlabel('Giá (Tỷ VND)')\n",
        "plt.ylabel('Số lượng')\n",
        "\n",
        "plt.subplot(1, 3, 2)\n",
        "plt.scatter(df['dien_tich'], df['gia_nha']/1_000_000_000, alpha=0.5)\n",
        "plt.title('Diện Tích vs Giá Nhà')\n",
        "plt.xlabel('Diện tích (m²)')\n",
        "plt.ylabel('Giá (Tỷ VND)')\n",
        "\n",
        "plt.subplot(1, 3, 3)\n",
        "plt.scatter(df['khoang_cach_trung_tam'], df['gia_nha']/1_000_000_000, alpha=0.5, color='orange')\n",
        "plt.title('Khoảng Cách Trung Tâm vs Giá')\n",
        "plt.xlabel('Khoảng cách (km)')\n",
        "plt.ylabel('Giá (Tỷ VND)')\n",
        "\n",
        "plt.tight_layout()\n",
        "plt.show()\n"
      ]
    },
    {
      "cell_type": "markdown",
      "metadata": {
        "vscode": {
          "languageId": "raw"
        }
      },
      "source": [
        "## 3. Chuẩn Bị Dữ Liệu + Training Models\n"
      ]
    },
    {
      "cell_type": "code",
      "execution_count": null,
      "metadata": {},
      "outputs": [],
      "source": [
        "# Chuẩn bị dữ liệu\n",
        "X = df.drop('gia_nha', axis=1)\n",
        "y = df['gia_nha']\n",
        "X_train, X_test, y_train, y_test = train_test_split(X, y, test_size=0.2, random_state=42)\n",
        "\n",
        "# Chuẩn hóa dữ liệu\n",
        "scaler = StandardScaler()\n",
        "X_train_scaled = scaler.fit_transform(X_train)\n",
        "X_test_scaled = scaler.transform(X_test)\n",
        "\n",
        "print(f\"📊 Dữ liệu training: {X_train.shape}\")\n",
        "print(f\"📊 Dữ liệu testing: {X_test.shape}\")\n",
        "\n",
        "# Training Machine Learning Models\n",
        "print(\"\\n🔨 Training Machine Learning models...\")\n",
        "\n",
        "# 1. Linear Regression\n",
        "lr_model = LinearRegression()\n",
        "lr_model.fit(X_train, y_train)\n",
        "\n",
        "# 2. Random Forest\n",
        "rf_model = RandomForestRegressor(n_estimators=100, random_state=42)\n",
        "rf_model.fit(X_train, y_train)\n",
        "\n",
        "# 3. Deep Learning Model\n",
        "print(\"🧠 Training Deep Learning model...\")\n",
        "dl_model = keras.Sequential([\n",
        "    keras.layers.Dense(128, activation='relu', input_shape=(X_train.shape[1],)),\n",
        "    keras.layers.Dropout(0.3),\n",
        "    keras.layers.Dense(64, activation='relu'),\n",
        "    keras.layers.Dropout(0.3),\n",
        "    keras.layers.Dense(32, activation='relu'),\n",
        "    keras.layers.Dense(1)\n",
        "])\n",
        "\n",
        "dl_model.compile(optimizer='adam', loss='mse', metrics=['mae'])\n",
        "history = dl_model.fit(X_train_scaled, y_train, epochs=100, batch_size=32, \n",
        "                      validation_split=0.2, verbose=0)\n",
        "\n",
        "print(\"✅ Tất cả models đã được train xong!\")\n"
      ]
    },
    {
      "cell_type": "markdown",
      "metadata": {
        "vscode": {
          "languageId": "raw"
        }
      },
      "source": [
        "## 4. TEST VÀ ĐÁNH GIÁ MODELS\n"
      ]
    },
    {
      "cell_type": "code",
      "execution_count": null,
      "metadata": {},
      "outputs": [],
      "source": [
        "# Dự đoán trên test set\n",
        "lr_pred = lr_model.predict(X_test)\n",
        "rf_pred = rf_model.predict(X_test)\n",
        "dl_pred = dl_model.predict(X_test_scaled, verbose=0).flatten()\n",
        "\n",
        "# Hàm đánh giá model\n",
        "def danh_gia_model(y_true, y_pred, model_name):\n",
        "    mae = mean_absolute_error(y_true, y_pred)\n",
        "    mse = mean_squared_error(y_true, y_pred)\n",
        "    rmse = np.sqrt(mse)\n",
        "    r2 = r2_score(y_true, y_pred)\n",
        "    \n",
        "    print(f\"📊 {model_name}:\")\n",
        "    print(f\"   MAE: {mae:,.0f} VND ({(mae/y_true.mean())*100:.1f}%)\")\n",
        "    print(f\"   RMSE: {rmse:,.0f} VND\")\n",
        "    print(f\"   R² Score: {r2:.3f}\")\n",
        "    \n",
        "    return {'MAE': mae, 'RMSE': rmse, 'R2': r2, 'Error_%': (mae/y_true.mean())*100}\n",
        "\n",
        "# Đánh giá từng model\n",
        "results = {}\n",
        "results['Linear Regression'] = danh_gia_model(y_test, lr_pred, \"Linear Regression\")\n",
        "results['Random Forest'] = danh_gia_model(y_test, rf_pred, \"Random Forest\")\n",
        "results['Deep Learning'] = danh_gia_model(y_test, dl_pred, \"Deep Learning\")\n",
        "\n",
        "# Bảng so sánh\n",
        "results_df = pd.DataFrame(results).T\n",
        "print(\"\\n🏆 BẢNG XẾP HẠNG:\")\n",
        "print(results_df.round(3))\n"
      ]
    },
    {
      "cell_type": "markdown",
      "metadata": {
        "vscode": {
          "languageId": "raw"
        }
      },
      "source": [
        "## 5. TEST THỰC TẾ - Dự Đoán Giá Nhà Mới\n"
      ]
    },
    {
      "cell_type": "code",
      "execution_count": null,
      "metadata": {},
      "outputs": [],
      "source": [
        "def du_doan_gia_nha(dien_tich, so_phong_ngu, so_phong_tam, khoang_cach_trung_tam, \n",
        "                   tuoi_nha, gan_truong_hoc, gan_benh_vien, co_ho_boi, co_thang_may):\n",
        "    \"\"\"Hàm dự đoán giá nhà từ các thông số\"\"\"\n",
        "    new_house = pd.DataFrame({\n",
        "        'dien_tich': [dien_tich], 'so_phong_ngu': [so_phong_ngu],\n",
        "        'so_phong_tam': [so_phong_tam], 'khoang_cach_trung_tam': [khoang_cach_trung_tam],\n",
        "        'tuoi_nha': [tuoi_nha], 'gan_truong_hoc': [gan_truong_hoc],\n",
        "        'gan_benh_vien': [gan_benh_vien], 'co_ho_boi': [co_ho_boi], 'co_thang_may': [co_thang_may]\n",
        "    })\n",
        "    \n",
        "    new_house_scaled = scaler.transform(new_house)\n",
        "    \n",
        "    lr_price = lr_model.predict(new_house)[0]\n",
        "    rf_price = rf_model.predict(new_house)[0]\n",
        "    dl_price = dl_model.predict(new_house_scaled, verbose=0)[0][0]\n",
        "    \n",
        "    return lr_price, rf_price, dl_price\n",
        "\n",
        "# TEST CASE 1: Nhà cao cấp\n",
        "print(\"🏠 TEST CASE 1: Nhà Cao Cấp\")\n",
        "print(\"150m², 4PN, 3PT, cách TT 5km, 2 năm tuổi, đầy đủ tiện ích\")\n",
        "lr1, rf1, dl1 = du_doan_gia_nha(150, 4, 3, 5, 2, 1, 1, 1, 1)\n",
        "print(f\"   Linear Regression: {lr1/1_000_000_000:.2f} tỷ VND\")\n",
        "print(f\"   Random Forest: {rf1/1_000_000_000:.2f} tỷ VND\")\n",
        "print(f\"   Deep Learning: {dl1/1_000_000_000:.2f} tỷ VND\")\n",
        "\n",
        "# TEST CASE 2: Nhà bình dân\n",
        "print(\"\\n🏘️ TEST CASE 2: Nhà Bình Dân\")\n",
        "print(\"60m², 2PN, 1PT, cách TT 15km, 10 năm tuổi, ít tiện ích\")\n",
        "lr2, rf2, dl2 = du_doan_gia_nha(60, 2, 1, 15, 10, 0, 0, 0, 0)\n",
        "print(f\"   Linear Regression: {lr2/1_000_000_000:.2f} tỷ VND\")\n",
        "print(f\"   Random Forest: {rf2/1_000_000_000:.2f} tỷ VND\")\n",
        "print(f\"   Deep Learning: {dl2/1_000_000_000:.2f} tỷ VND\")\n",
        "\n",
        "# TEST CASE 3: Nhà trung bình\n",
        "print(\"\\n🏡 TEST CASE 3: Nhà Trung Bình\")\n",
        "print(\"100m², 3PN, 2PT, cách TT 8km, 5 năm tuổi, một số tiện ích\")\n",
        "lr3, rf3, dl3 = du_doan_gia_nha(100, 3, 2, 8, 5, 1, 0, 0, 1)\n",
        "print(f\"   Linear Regression: {lr3/1_000_000_000:.2f} tỷ VND\")\n",
        "print(f\"   Random Forest: {rf3/1_000_000_000:.2f} tỷ VND\")\n",
        "print(f\"   Deep Learning: {dl3/1_000_000_000:.2f} tỷ VND\")\n"
      ]
    },
    {
      "cell_type": "markdown",
      "metadata": {
        "vscode": {
          "languageId": "raw"
        }
      },
      "source": [
        "## 6. ĐÁNH GIÁ ĐỘ CHÍNH XÁC VÀ KẾT LUẬN\n"
      ]
    },
    {
      "cell_type": "code",
      "execution_count": null,
      "metadata": {},
      "outputs": [],
      "source": [
        "# Visualize kết quả dự đoán\n",
        "plt.figure(figsize=(15, 5))\n",
        "\n",
        "models = [('Linear Regression', lr_pred), ('Random Forest', rf_pred), ('Deep Learning', dl_pred)]\n",
        "\n",
        "for i, (name, pred) in enumerate(models, 1):\n",
        "    plt.subplot(1, 3, i)\n",
        "    plt.scatter(y_test/1_000_000_000, pred/1_000_000_000, alpha=0.6)\n",
        "    plt.plot([y_test.min()/1_000_000_000, y_test.max()/1_000_000_000], \n",
        "             [y_test.min()/1_000_000_000, y_test.max()/1_000_000_000], 'r--')\n",
        "    plt.xlabel('Giá Thực Tế (Tỷ VND)')\n",
        "    plt.ylabel('Giá Dự Đoán (Tỷ VND)')\n",
        "    plt.title(f'{name}\\nR² = {results[name][\"R2\"]:.3f}')\n",
        "    plt.grid(True, alpha=0.3)\n",
        "\n",
        "plt.tight_layout()\n",
        "plt.show()\n",
        "\n",
        "# Tính độ nhất quán giữa các models\n",
        "test_cases = [\n",
        "    ('Nhà Cao Cấp', [lr1, rf1, dl1]),\n",
        "    ('Nhà Bình Dân', [lr2, rf2, dl2]),\n",
        "    ('Nhà Trung Bình', [lr3, rf3, dl3])\n",
        "]\n",
        "\n",
        "print(\"📊 PHÂN TÍCH ĐỘ NHẤT QUÁN:\")\n",
        "for case_name, predictions in test_cases:\n",
        "    mean_pred = np.mean(predictions)\n",
        "    std_pred = np.std(predictions)\n",
        "    cv = (std_pred / mean_pred) * 100\n",
        "    print(f\"\\n{case_name}:\")\n",
        "    print(f\"   Giá trung bình: {mean_pred/1_000_000_000:.2f} tỷ VND\")\n",
        "    print(f\"   Độ lệch chuẩn: {std_pred/1_000_000_000:.2f} tỷ VND\")\n",
        "    print(f\"   Hệ số biến thiên: {cv:.1f}%\")\n",
        "    if cv < 10:\n",
        "        print(f\"   ✅ Models dự đoán rất nhất quán\")\n",
        "    elif cv < 20:\n",
        "        print(f\"   ⚠️ Models dự đoán khá nhất quán\")\n",
        "    else:\n",
        "        print(f\"   ❌ Models dự đoán không nhất quán\")\n",
        "\n",
        "# Tìm model tốt nhất\n",
        "best_model = max(results.items(), key=lambda x: x[1]['R2'])\n",
        "print(f\"\\n🏆 MODEL TỐT NHẤT: {best_model[0]}\")\n",
        "print(f\"   - Độ chính xác (R²): {best_model[1]['R2']:.3f}\")\n",
        "print(f\"   - Sai số trung bình: {best_model[1]['Error_%']:.1f}%\")\n",
        "\n",
        "print(\"\\n💡 KẾT LUẬN:\")\n",
        "if best_model[1]['R2'] > 0.85:\n",
        "    print(\"✅ Model đạt độ chính xác cao, có thể triển khai thực tế\")\n",
        "else:\n",
        "    print(\"⚠️ Cần cải thiện model hoặc thu thập thêm dữ liệu\")\n",
        "    \n",
        "print(\"\\n📚 BÀI HỌC:\")\n",
        "print(\"1. Dữ liệu chất lượng quan trọng hơn thuật toán phức tạp\")\n",
        "print(\"2. Không phải lúc nào Deep Learning cũng tốt nhất\")\n",
        "print(\"3. Cần test trên nhiều scenarios để đánh giá độ tin cậy\")\n",
        "print(\"4. Cân nhắc giữa độ chính xác và khả năng giải thích\")\n"
      ]
    }
  ],
  "metadata": {
    "kernelspec": {
      "display_name": "venv",
      "language": "python",
      "name": "python3"
    },
    "language_info": {
      "codemirror_mode": {
        "name": "ipython",
        "version": 3
      },
      "file_extension": ".py",
      "mimetype": "text/x-python",
      "name": "python",
      "nbconvert_exporter": "python",
      "pygments_lexer": "ipython3",
      "version": "3.12.10"
    }
  },
  "nbformat": 4,
  "nbformat_minor": 2
}
