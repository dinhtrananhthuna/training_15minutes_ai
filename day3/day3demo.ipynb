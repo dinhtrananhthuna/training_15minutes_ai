{
 "cells": [
  {
   "cell_type": "code",
   "execution_count": null,
   "metadata": {},
   "outputs": [],
   "source": [
    "# So sánh các tokenizer khác nhau\n",
    "from transformers import AutoTokenizer\n",
    "\n",
    "# Load different tokenizers\n",
    "gpt2_tokenizer = AutoTokenizer.from_pretrained(\"gpt2\")\n",
    "bert_tokenizer = AutoTokenizer.from_pretrained(\"bert-base-uncased\")\n",
    "\n",
    "text = \"Hello world! This is a test of tokenization methods.\"\n",
    "\n",
    "print(\"GPT-2 Tokenization:\")\n",
    "gpt2_tokens = gpt2_tokenizer.encode(text)\n",
    "print(f\"Tokens: {gpt2_tokens}\")\n",
    "print(f\"Decoded: {[gpt2_tokenizer.decode([t]) for t in gpt2_tokens]}\")\n",
    "\n",
    "print(\"\\nBERT Tokenization:\")\n",
    "bert_tokens = bert_tokenizer.encode(text)\n",
    "print(f\"Tokens: {bert_tokens}\")\n",
    "print(f\"Decoded: {[bert_tokenizer.decode([t]) for t in bert_tokens]}\")"
   ]
  },
  {
   "cell_type": "code",
   "execution_count": 2,
   "metadata": {},
   "outputs": [
    {
     "name": "stdout",
     "output_type": "stream",
     "text": [
      "Text: 'Hi' → 1 tokens\n",
      "Text: 'Hello world!' → 3 tokens\n",
      "Text: 'This is a longer sentence to test tokenization.' → 10 tokens\n",
      "Text: 'This is a much longer paragraph that contains mult...' → 32 tokens\n"
     ]
    }
   ],
   "source": [
    "def count_tokens(text, tokenizer_name=\"gpt2\"):\n",
    "    tokenizer = AutoTokenizer.from_pretrained(tokenizer_name)\n",
    "    tokens = tokenizer.encode(text)\n",
    "    return len(tokens)\n",
    "\n",
    "# Test với different text lengths\n",
    "texts = [\n",
    "    \"Hi\",\n",
    "    \"Hello world!\",\n",
    "    \"This is a longer sentence to test tokenization.\",\n",
    "    \"This is a much longer paragraph that contains multiple sentences. It should demonstrate how token count increases with text length. We can use this to understand context window limitations.\"\n",
    "]\n",
    "\n",
    "for text in texts:\n",
    "    token_count = count_tokens(text)\n",
    "    print(f\"Text: '{text[:50]}{'...' if len(text) > 50 else ''}' → {token_count} tokens\")"
   ]
  },
  {
   "cell_type": "code",
   "execution_count": 3,
   "metadata": {},
   "outputs": [
    {
     "name": "stdout",
     "output_type": "stream",
     "text": [
      "WARNING:tensorflow:From d:\\Works\\repos\\training_15minutes_ai\\venv\\Lib\\site-packages\\tf_keras\\src\\losses.py:2976: The name tf.losses.sparse_softmax_cross_entropy is deprecated. Please use tf.compat.v1.losses.sparse_softmax_cross_entropy instead.\n",
      "\n"
     ]
    },
    {
     "data": {
      "application/vnd.jupyter.widget-view+json": {
       "model_id": "eecf68027d6b413bae72e873b87326f1",
       "version_major": 2,
       "version_minor": 0
      },
      "text/plain": [
       "modules.json:   0%|          | 0.00/349 [00:00<?, ?B/s]"
      ]
     },
     "metadata": {},
     "output_type": "display_data"
    },
    {
     "name": "stderr",
     "output_type": "stream",
     "text": [
      "d:\\Works\\repos\\training_15minutes_ai\\venv\\Lib\\site-packages\\huggingface_hub\\file_download.py:143: UserWarning: `huggingface_hub` cache-system uses symlinks by default to efficiently store duplicated files but your machine does not support them in C:\\Users\\longv\\.cache\\huggingface\\hub\\models--sentence-transformers--all-MiniLM-L6-v2. Caching files will still work but in a degraded version that might require more space on your disk. This warning can be disabled by setting the `HF_HUB_DISABLE_SYMLINKS_WARNING` environment variable. For more details, see https://huggingface.co/docs/huggingface_hub/how-to-cache#limitations.\n",
      "To support symlinks on Windows, you either need to activate Developer Mode or to run Python as an administrator. In order to activate developer mode, see this article: https://docs.microsoft.com/en-us/windows/apps/get-started/enable-your-device-for-development\n",
      "  warnings.warn(message)\n"
     ]
    },
    {
     "data": {
      "application/vnd.jupyter.widget-view+json": {
       "model_id": "67ad4ffdd87c40e0aeb2db97ffe2f7ff",
       "version_major": 2,
       "version_minor": 0
      },
      "text/plain": [
       "config_sentence_transformers.json:   0%|          | 0.00/116 [00:00<?, ?B/s]"
      ]
     },
     "metadata": {},
     "output_type": "display_data"
    },
    {
     "data": {
      "application/vnd.jupyter.widget-view+json": {
       "model_id": "bc66e8d0a0be4f64a9bbb0da5ea8193c",
       "version_major": 2,
       "version_minor": 0
      },
      "text/plain": [
       "README.md: 0.00B [00:00, ?B/s]"
      ]
     },
     "metadata": {},
     "output_type": "display_data"
    },
    {
     "data": {
      "application/vnd.jupyter.widget-view+json": {
       "model_id": "fe4631928b1947acba0696ca84ab2445",
       "version_major": 2,
       "version_minor": 0
      },
      "text/plain": [
       "sentence_bert_config.json:   0%|          | 0.00/53.0 [00:00<?, ?B/s]"
      ]
     },
     "metadata": {},
     "output_type": "display_data"
    },
    {
     "data": {
      "application/vnd.jupyter.widget-view+json": {
       "model_id": "8f98089d742d4f02affd4452556af879",
       "version_major": 2,
       "version_minor": 0
      },
      "text/plain": [
       "config.json:   0%|          | 0.00/612 [00:00<?, ?B/s]"
      ]
     },
     "metadata": {},
     "output_type": "display_data"
    },
    {
     "name": "stderr",
     "output_type": "stream",
     "text": [
      "Xet Storage is enabled for this repo, but the 'hf_xet' package is not installed. Falling back to regular HTTP download. For better performance, install the package with: `pip install huggingface_hub[hf_xet]` or `pip install hf_xet`\n"
     ]
    },
    {
     "data": {
      "application/vnd.jupyter.widget-view+json": {
       "model_id": "af76da7dc42c4dbc81e83057ffeaca21",
       "version_major": 2,
       "version_minor": 0
      },
      "text/plain": [
       "model.safetensors:   0%|          | 0.00/90.9M [00:00<?, ?B/s]"
      ]
     },
     "metadata": {},
     "output_type": "display_data"
    },
    {
     "data": {
      "application/vnd.jupyter.widget-view+json": {
       "model_id": "6a509cc90ef14349a0b9c6a0b75ac545",
       "version_major": 2,
       "version_minor": 0
      },
      "text/plain": [
       "tokenizer_config.json:   0%|          | 0.00/350 [00:00<?, ?B/s]"
      ]
     },
     "metadata": {},
     "output_type": "display_data"
    },
    {
     "data": {
      "application/vnd.jupyter.widget-view+json": {
       "model_id": "981a417291734949bc50c79fe6ca9935",
       "version_major": 2,
       "version_minor": 0
      },
      "text/plain": [
       "vocab.txt: 0.00B [00:00, ?B/s]"
      ]
     },
     "metadata": {},
     "output_type": "display_data"
    },
    {
     "data": {
      "application/vnd.jupyter.widget-view+json": {
       "model_id": "c7bdde661fc04563a34c893bc6de67b1",
       "version_major": 2,
       "version_minor": 0
      },
      "text/plain": [
       "tokenizer.json: 0.00B [00:00, ?B/s]"
      ]
     },
     "metadata": {},
     "output_type": "display_data"
    },
    {
     "data": {
      "application/vnd.jupyter.widget-view+json": {
       "model_id": "1c95e9f4eb0b4aa38db74cb720aacdb4",
       "version_major": 2,
       "version_minor": 0
      },
      "text/plain": [
       "special_tokens_map.json:   0%|          | 0.00/112 [00:00<?, ?B/s]"
      ]
     },
     "metadata": {},
     "output_type": "display_data"
    },
    {
     "data": {
      "application/vnd.jupyter.widget-view+json": {
       "model_id": "920bf716f84340cdb347c0de420968cd",
       "version_major": 2,
       "version_minor": 0
      },
      "text/plain": [
       "config.json:   0%|          | 0.00/190 [00:00<?, ?B/s]"
      ]
     },
     "metadata": {},
     "output_type": "display_data"
    },
    {
     "data": {
      "image/png": "[encoded data removed]",
      "text/plain": [
       "<Figure size 1000x800 with 1 Axes>"
      ]
     },
     "metadata": {},
     "output_type": "display_data"
    }
   ],
   "source": [
    "# Visualization của Word Embeddings\n",
    "import numpy as np\n",
    "import matplotlib.pyplot as plt\n",
    "from sklearn.decomposition import PCA\n",
    "\n",
    "# Import sentence_transformers với error handling\n",
    "try:\n",
    "    from sentence_transformers import SentenceTransformer\n",
    "    \n",
    "    # Load sentence transformer model\n",
    "    model = SentenceTransformer('all-MiniLM-L6-v2')\n",
    "    \n",
    "    # Example words/phrases\n",
    "    texts = [\n",
    "        \"king\", \"queen\", \"man\", \"woman\",\n",
    "        \"happy\", \"sad\", \"joyful\", \"depressed\",\n",
    "        \"cat\", \"dog\", \"animal\", \"pet\",\n",
    "        \"car\", \"vehicle\", \"transportation\", \"bike\"\n",
    "    ]\n",
    "    \n",
    "    # Get embeddings\n",
    "    embeddings = model.encode(texts)\n",
    "    \n",
    "    # Reduce dimensions for visualization\n",
    "    pca = PCA(n_components=2)\n",
    "    embeddings_2d = pca.fit_transform(embeddings)\n",
    "    \n",
    "    # Plot\n",
    "    plt.figure(figsize=(10, 8))\n",
    "    scatter = plt.scatter(embeddings_2d[:, 0], embeddings_2d[:, 1])\n",
    "    \n",
    "    # Add labels\n",
    "    for i, txt in enumerate(texts):\n",
    "        plt.annotate(txt, (embeddings_2d[i, 0], embeddings_2d[i, 1]))\n",
    "    \n",
    "    plt.title(\"Word Embeddings Visualization (2D)\")\n",
    "    plt.xlabel(\"PC1\")\n",
    "    plt.ylabel(\"PC2\")\n",
    "    plt.grid(True, alpha=0.3)\n",
    "    plt.show()\n",
    "    \n",
    "except ImportError as e:\n",
    "    print(f\"Lỗi import: {e}\")\n",
    "    print(\"Hãy chạy: pip install --upgrade sentence-transformers\")\n",
    "except Exception as e:\n",
    "    print(f\"Lỗi khác: {e}\")\n",
    "    print(\"Hãy restart kernel và thử lại\")"
   ]
  },
  {
   "cell_type": "code",
   "execution_count": 7,
   "metadata": {},
   "outputs": [
    {
     "name": "stdout",
     "output_type": "stream",
     "text": [
      "Text length: 92 chars, Tokens: 18, Status: ✅ OK\n",
      "Text length: 184 chars, Tokens: 35, Status: ✅ OK\n",
      "Text length: 460 chars, Tokens: 86, Status: ✅ OK\n",
      "Text length: 920 chars, Tokens: 171, Status: ❌ Too long\n",
      "Exceeded limit by 71 tokens\n"
     ]
    }
   ],
   "source": [
    "def test_context_limits(base_text, max_tokens=100):\n",
    "    \"\"\"Test how models handle long context\"\"\"\n",
    "    tokenizer = AutoTokenizer.from_pretrained(\"gpt2\")\n",
    "    \n",
    "    # Gradually increase text length\n",
    "    multipliers = [1, 2, 5, 10, 20]\n",
    "    \n",
    "    for mult in multipliers:\n",
    "        text = base_text * mult\n",
    "        token_count = len(tokenizer.encode(text))\n",
    "        \n",
    "        status = \"✅ OK\" if token_count < max_tokens else \"❌ Too long\"\n",
    "        print(f\"Text length: {len(text)} chars, Tokens: {token_count}, Status: {status}\")\n",
    "        \n",
    "        if token_count > max_tokens:\n",
    "            print(f\"Exceeded limit by {token_count - max_tokens} tokens\")\n",
    "            break\n",
    "\n",
    "# Test với sample text\n",
    "sample_text = \"This is a sample sentence that we will repeat multiple times to test context window limits. \"\n",
    "test_context_limits(sample_text)\n"
   ]
  }
 ],
 "metadata": {
  "kernelspec": {
   "display_name": "venv",
   "language": "python",
   "name": "python3"
  },
  "language_info": {
   "codemirror_mode": {
    "name": "ipython",
    "version": 3
   },
   "file_extension": ".py",
   "mimetype": "text/x-python",
   "name": "python",
   "nbconvert_exporter": "python",
   "pygments_lexer": "ipython3",
   "version": "3.12.10"
  }
 },
 "nbformat": 4,
 "nbformat_minor": 2
}
